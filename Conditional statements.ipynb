{
 "cells": [
  {
   "cell_type": "code",
   "execution_count": 4,
   "id": "f598960d-94ee-4711-9b09-2b48ca5d1aec",
   "metadata": {},
   "outputs": [
    {
     "name": "stdout",
     "output_type": "stream",
     "text": [
      "hi Twan\n"
     ]
    }
   ],
   "source": [
    "#block structure\n",
    "if 1<8:\n",
    "    print(\"hi Twan\")"
   ]
  },
  {
   "cell_type": "code",
   "execution_count": 7,
   "id": "723ff4b4-82e8-406c-8d43-de0663ee0c39",
   "metadata": {},
   "outputs": [],
   "source": [
    "if 5>9:\n",
    "    print(\"hi\")"
   ]
  },
  {
   "cell_type": "code",
   "execution_count": 8,
   "id": "155ea157-379b-4151-b27d-853914da9368",
   "metadata": {},
   "outputs": [
    {
     "name": "stdout",
     "output_type": "stream",
     "text": [
      "hi\n"
     ]
    }
   ],
   "source": [
    "#if else syntax\n",
    "if 1<2:\n",
    "    print(\"hi\")\n",
    "else:\n",
    "    print(\"bye\")"
   ]
  },
  {
   "cell_type": "code",
   "execution_count": 9,
   "id": "8e816942-6f85-40ad-bd09-ac04002450c5",
   "metadata": {},
   "outputs": [
    {
     "name": "stdout",
     "output_type": "stream",
     "text": [
      "bye\n"
     ]
    }
   ],
   "source": [
    "if 1>2:\n",
    "    print(\"hi\")\n",
    "else:\n",
    "    print(\"bye\")"
   ]
  },
  {
   "cell_type": "code",
   "execution_count": 11,
   "id": "fd1b9f39-1858-435a-9951-8f0bc05fbd1f",
   "metadata": {},
   "outputs": [
    {
     "name": "stdin",
     "output_type": "stream",
     "text": [
      "enter your number 2\n"
     ]
    },
    {
     "name": "stdout",
     "output_type": "stream",
     "text": [
      "even no\n"
     ]
    }
   ],
   "source": [
    "#checking the no is even or odd\n",
    "a=int(input(\"enter your number\"))\n",
    "if (a%2==0):\n",
    "    print(\"even no\")\n",
    "else:\n",
    "    print(\"odd no\")"
   ]
  },
  {
   "cell_type": "code",
   "execution_count": 12,
   "id": "09c38a00-f5eb-4367-ade8-4f9b2b6d0997",
   "metadata": {},
   "outputs": [
    {
     "name": "stdout",
     "output_type": "stream",
     "text": [
      "true\n"
     ]
    }
   ],
   "source": [
    "#if elif else\n",
    "if 2==2:\n",
    "    print(\"true\")\n",
    "elif 8==8:\n",
    "    print(\"false\")"
   ]
  },
  {
   "cell_type": "code",
   "execution_count": 13,
   "id": "9f7950bd-74b5-4eb8-bffa-3191bd240781",
   "metadata": {},
   "outputs": [
    {
     "name": "stdout",
     "output_type": "stream",
     "text": [
      "grade b\n"
     ]
    }
   ],
   "source": [
    "a=62\n",
    "if a>90:\n",
    "    print(\"grade a\")\n",
    "elif a>60:\n",
    "    print(\"grade b\")\n",
    "elif a>40:\n",
    "    print(\"grade c\")\n",
    "else:\n",
    "    print(\"grade f\")"
   ]
  },
  {
   "cell_type": "code",
   "execution_count": 14,
   "id": "a8891114-7e8e-487f-aaf0-a49beb13f0bd",
   "metadata": {},
   "outputs": [
    {
     "name": "stdout",
     "output_type": "stream",
     "text": [
      "grade c\n"
     ]
    }
   ],
   "source": [
    "a=60\n",
    "if a>90:\n",
    "    print(\"grade a\")\n",
    "elif a>60:\n",
    "    print(\"grade b\")\n",
    "elif a>40:\n",
    "    print(\"grade c\")\n",
    "else:\n",
    "    print(\"grade f\")"
   ]
  },
  {
   "cell_type": "code",
   "execution_count": 17,
   "id": "03a8d616-3032-48a1-9177-7d8cec187445",
   "metadata": {},
   "outputs": [
    {
     "name": "stdin",
     "output_type": "stream",
     "text": [
      "enter your fav chocolate kitkat\n"
     ]
    },
    {
     "name": "stdout",
     "output_type": "stream",
     "text": [
      "tasty\n"
     ]
    }
   ],
   "source": [
    "chocy=input(\"enter your fav chocolate\")\n",
    "if chocy==\"silk\":\n",
    "    print(\"delicious\")\n",
    "elif chocy==\"kitkat\":\n",
    "    print(\"tasty\")\n",
    "elif chocy==\"kinderjoy\":\n",
    "    print(\"yummy\")\n",
    "else:\n",
    "    print(\"other chocolates are not recommended\")"
   ]
  },
  {
   "cell_type": "code",
   "execution_count": 18,
   "id": "391bc971-caff-4a6b-b91e-d3250b8cfe7d",
   "metadata": {},
   "outputs": [
    {
     "name": "stdin",
     "output_type": "stream",
     "text": [
      "enter 1st no 4\n",
      "enter 2nd no 5\n",
      "enter 3rd no 9\n"
     ]
    },
    {
     "name": "stdout",
     "output_type": "stream",
     "text": [
      "c is largest 9\n"
     ]
    }
   ],
   "source": [
    "#to find largest no bewteen 3 nos\n",
    "a=int(input(\"enter 1st no\"))\n",
    "b=int(input(\"enter 2nd no\"))\n",
    "c=int(input(\"enter 3rd no\"))\n",
    "if a>b and a>c:\n",
    "    print(\"a is largest\",a)\n",
    "elif b>c:\n",
    "    print(\"b is largest\",b)\n",
    "else:\n",
    "    print(\"c is largest\",c)"
   ]
  },
  {
   "cell_type": "code",
   "execution_count": 20,
   "id": "4ad89b20-b693-4176-b09d-98eeaca8ba80",
   "metadata": {},
   "outputs": [
    {
     "name": "stdout",
     "output_type": "stream",
     "text": [
      "negative\n"
     ]
    }
   ],
   "source": [
    "#nested if statements\n",
    "num=45\n",
    "if num>=0:\n",
    "    if num==0:\n",
    "        print(\"not\")\n",
    "    else:\n",
    "        print(\"negative\")\n",
    "else:\n",
    "    print:(\"positive\")"
   ]
  },
  {
   "cell_type": "code",
   "execution_count": null,
   "id": "d40ad7ac-5fa2-41bd-8eb5-103b50723655",
   "metadata": {},
   "outputs": [],
   "source": []
  }
 ],
 "metadata": {
  "kernelspec": {
   "display_name": "Python 3 (ipykernel)",
   "language": "python",
   "name": "python3"
  },
  "language_info": {
   "codemirror_mode": {
    "name": "ipython",
    "version": 3
   },
   "file_extension": ".py",
   "mimetype": "text/x-python",
   "name": "python",
   "nbconvert_exporter": "python",
   "pygments_lexer": "ipython3",
   "version": "3.11.7"
  }
 },
 "nbformat": 4,
 "nbformat_minor": 5
}
