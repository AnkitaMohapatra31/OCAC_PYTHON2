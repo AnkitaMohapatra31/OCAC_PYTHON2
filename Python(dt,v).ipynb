{
 "cells": [
  {
   "cell_type": "code",
   "execution_count": 1,
   "id": "2c4684e8-759d-435d-918e-043cbcdf5f0f",
   "metadata": {},
   "outputs": [
    {
     "data": {
      "text/plain": [
       "'ANKITA'"
      ]
     },
     "execution_count": 1,
     "metadata": {},
     "output_type": "execute_result"
    }
   ],
   "source": [
    "A=\"ANKITA\"\n",
    "A"
   ]
  },
  {
   "cell_type": "code",
   "execution_count": 2,
   "id": "f89d6da1-82fe-44f7-950b-c5f02e2450b8",
   "metadata": {},
   "outputs": [
    {
     "name": "stdout",
     "output_type": "stream",
     "text": [
      "ANKITA\n"
     ]
    }
   ],
   "source": [
    "A=\"ANKITA\"\n",
    "print(A)"
   ]
  },
  {
   "cell_type": "code",
   "execution_count": 3,
   "id": "e1ecedf1-4ae8-4aad-be7f-215b781f4d6c",
   "metadata": {},
   "outputs": [
    {
     "data": {
      "text/plain": [
       "'ANKITAANKITA'"
      ]
     },
     "execution_count": 3,
     "metadata": {},
     "output_type": "execute_result"
    }
   ],
   "source": [
    "A=\"ANKITA\"\n",
    "A+A"
   ]
  },
  {
   "cell_type": "code",
   "execution_count": 4,
   "id": "a95f415d-e876-4c08-ae53-c50bff727ba8",
   "metadata": {},
   "outputs": [
    {
     "data": {
      "text/plain": [
       "3"
      ]
     },
     "execution_count": 4,
     "metadata": {},
     "output_type": "execute_result"
    }
   ],
   "source": [
    "a=3\n",
    "a"
   ]
  },
  {
   "cell_type": "code",
   "execution_count": 5,
   "id": "4a7eee67-b2bc-4a33-8dea-9dbd1af43231",
   "metadata": {},
   "outputs": [
    {
     "data": {
      "text/plain": [
       "6"
      ]
     },
     "execution_count": 5,
     "metadata": {},
     "output_type": "execute_result"
    }
   ],
   "source": [
    "b=a+a\n",
    "b"
   ]
  },
  {
   "cell_type": "code",
   "execution_count": 6,
   "id": "86a57585-d68c-4962-89f8-3b9ebf64eb6e",
   "metadata": {},
   "outputs": [
    {
     "data": {
      "text/plain": [
       "140712356463528"
      ]
     },
     "execution_count": 6,
     "metadata": {},
     "output_type": "execute_result"
    }
   ],
   "source": [
    "#keyword\n",
    "b=5\n",
    "id(b)"
   ]
  },
  {
   "cell_type": "code",
   "execution_count": 7,
   "id": "6442ee21-a0fe-4d27-9711-8a4d879398aa",
   "metadata": {},
   "outputs": [
    {
     "data": {
      "text/plain": [
       "5"
      ]
     },
     "execution_count": 7,
     "metadata": {},
     "output_type": "execute_result"
    }
   ],
   "source": [
    "b"
   ]
  },
  {
   "cell_type": "code",
   "execution_count": 8,
   "id": "e777f6d1-9336-4a47-95c1-43f07455d680",
   "metadata": {},
   "outputs": [
    {
     "data": {
      "text/plain": [
       "6"
      ]
     },
     "execution_count": 8,
     "metadata": {},
     "output_type": "execute_result"
    }
   ],
   "source": [
    "b=6\n",
    "b"
   ]
  },
  {
   "cell_type": "code",
   "execution_count": 9,
   "id": "48d2d937-b240-447c-a628-450b98adfd17",
   "metadata": {},
   "outputs": [
    {
     "name": "stdout",
     "output_type": "stream",
     "text": [
      "6\n"
     ]
    }
   ],
   "source": [
    "print(b)\n"
   ]
  },
  {
   "cell_type": "code",
   "execution_count": 10,
   "id": "52659426-244a-464d-88fb-193bc2cd1a7d",
   "metadata": {},
   "outputs": [
    {
     "data": {
      "text/plain": [
       "140712356463624"
      ]
     },
     "execution_count": 10,
     "metadata": {},
     "output_type": "execute_result"
    }
   ],
   "source": [
    "b=8\n",
    "id(b)\n"
   ]
  },
  {
   "cell_type": "code",
   "execution_count": 11,
   "id": "a278e9ad-03fe-496a-a5cd-e908067da75d",
   "metadata": {},
   "outputs": [
    {
     "name": "stdout",
     "output_type": "stream",
     "text": [
      "8 8\n"
     ]
    }
   ],
   "source": [
    "print(b,b)\n"
   ]
  },
  {
   "cell_type": "code",
   "execution_count": 13,
   "id": "d213dba7-bf69-4d39-8b89-dcad9ef0780f",
   "metadata": {},
   "outputs": [
    {
     "name": "stdin",
     "output_type": "stream",
     "text": [
      "enter your name ankita\n"
     ]
    }
   ],
   "source": [
    "#to take i/p from user\n",
    "a=input(\"enter your name\")"
   ]
  },
  {
   "cell_type": "code",
   "execution_count": 14,
   "id": "9fa6c270-c8bc-4577-947b-9fde5a883954",
   "metadata": {},
   "outputs": [
    {
     "name": "stdout",
     "output_type": "stream",
     "text": [
      "ankita\n"
     ]
    }
   ],
   "source": [
    "print(a)"
   ]
  },
  {
   "cell_type": "code",
   "execution_count": 15,
   "id": "9280d619-efda-4bfb-9623-0d51c9d2202e",
   "metadata": {},
   "outputs": [
    {
     "name": "stdout",
     "output_type": "stream",
     "text": [
      "your name is ankita\n"
     ]
    }
   ],
   "source": [
    "print(\"your name is\",a)"
   ]
  },
  {
   "cell_type": "code",
   "execution_count": 16,
   "id": "90c83800-7d76-45df-9018-29f849e889cf",
   "metadata": {},
   "outputs": [
    {
     "name": "stdin",
     "output_type": "stream",
     "text": [
      "enter your branch csit\n"
     ]
    },
    {
     "name": "stdout",
     "output_type": "stream",
     "text": [
      "your name and branch is ankita csit\n"
     ]
    }
   ],
   "source": [
    "c=input(\"enter your branch\")\n",
    "print(\"your name and branch is\",a,c)"
   ]
  },
  {
   "cell_type": "code",
   "execution_count": 18,
   "id": "3201529c-7fa3-4fb4-aadf-f45d1ae04200",
   "metadata": {},
   "outputs": [
    {
     "name": "stdin",
     "output_type": "stream",
     "text": [
      "your clg name gita\n",
      "your age 21\n"
     ]
    },
    {
     "name": "stdout",
     "output_type": "stream",
     "text": [
      "clg name is  gita and your age 21\n"
     ]
    }
   ],
   "source": [
    "e=input(\"your clg name\")\n",
    "f=input(\"your age\")\n",
    "print(\"clg name is \",e, \"and your age\",f)\n"
   ]
  },
  {
   "cell_type": "code",
   "execution_count": 1,
   "id": "c8a60330-5f41-438e-b4e3-0f10372abb9d",
   "metadata": {},
   "outputs": [
    {
     "data": {
      "text/plain": [
       "'twinkle'"
      ]
     },
     "execution_count": 1,
     "metadata": {},
     "output_type": "execute_result"
    }
   ],
   "source": [
    "t=1000\n",
    "w=2000\n",
    "i=500\n",
    "n=\"twinkle\"\n",
    "n"
   ]
  },
  {
   "cell_type": "code",
   "execution_count": 2,
   "id": "9c0d96e8-360b-40ed-b28b-dde41604273c",
   "metadata": {},
   "outputs": [
    {
     "data": {
      "text/plain": [
       "1000"
      ]
     },
     "execution_count": 2,
     "metadata": {},
     "output_type": "execute_result"
    }
   ],
   "source": [
    "t"
   ]
  },
  {
   "cell_type": "code",
   "execution_count": 3,
   "id": "02e1a7db-7f62-43e0-825d-323101e4d76f",
   "metadata": {},
   "outputs": [
    {
     "data": {
      "text/plain": [
       "(1000, 'twinkle', 500)"
      ]
     },
     "execution_count": 3,
     "metadata": {},
     "output_type": "execute_result"
    }
   ],
   "source": [
    "t,n,i"
   ]
  },
  {
   "cell_type": "code",
   "execution_count": 4,
   "id": "b7004ab0-fbe5-44ad-aa48-17cab7fd1be0",
   "metadata": {},
   "outputs": [
    {
     "data": {
      "text/plain": [
       "(1000, 2000, 500, 'twinkle')"
      ]
     },
     "execution_count": 4,
     "metadata": {},
     "output_type": "execute_result"
    }
   ],
   "source": [
    "t,w,i,n"
   ]
  },
  {
   "cell_type": "code",
   "execution_count": 6,
   "id": "ef938582-dc27-4bae-b3c2-38228c4264c9",
   "metadata": {},
   "outputs": [
    {
     "name": "stdout",
     "output_type": "stream",
     "text": [
      "1000 2000 500 are the numeric value whereas twinkle is a only string\n"
     ]
    }
   ],
   "source": [
    "print(t,w,i, \"are the numeric value whereas\",n, \"is a only string\")"
   ]
  },
  {
   "cell_type": "code",
   "execution_count": 6,
   "id": "25a622f2-3be8-490a-a04b-259d73cabc93",
   "metadata": {},
   "outputs": [
    {
     "name": "stdin",
     "output_type": "stream",
     "text": [
      "enter 1st value 5\n",
      "enter 2nd value 6\n"
     ]
    },
    {
     "name": "stdout",
     "output_type": "stream",
     "text": [
      "addition11.0,substraction-1.0,multiplicatin30.0,division0.8333333333333334\n"
     ]
    }
   ],
   "source": [
    "a=float(input(\"enter 1st value\"))\n",
    "b=float(input(\"enter 2nd value\"))\n",
    "c=a+b\n",
    "d=a-b\n",
    "e=a/b\n",
    "f=a*b\n",
    "print(\"addition{},substraction{},multiplicatin{},division{}\".format(c,d,f,e))\n"
   ]
  },
  {
   "cell_type": "code",
   "execution_count": 13,
   "id": "d6eaf396-7dd4-4117-866c-97d8fd288294",
   "metadata": {},
   "outputs": [
    {
     "name": "stdout",
     "output_type": "stream",
     "text": [
      "11.0|-1.0|0.8333333333333334|30.0\n"
     ]
    }
   ],
   "source": [
    "print(\"{0:<4}|{1:^4}|{2:^4}|{3:<4}\" .format(c,d,e,f))"
   ]
  },
  {
   "cell_type": "code",
   "execution_count": 18,
   "id": "756b6059-50c4-44f6-b6b4-babd2996bd56",
   "metadata": {},
   "outputs": [
    {
     "name": "stdout",
     "output_type": "stream",
     "text": [
      "my clg name is GITA Autonomous College\n"
     ]
    }
   ],
   "source": [
    "t=\"GITA\"\n",
    "print(f\"my clg name is {t} Autonomous College\")\n"
   ]
  },
  {
   "cell_type": "code",
   "execution_count": null,
   "id": "0b9340b5-fa4f-40bf-a312-d092035f21b8",
   "metadata": {},
   "outputs": [],
   "source": [
    "#DATATYPES"
   ]
  },
  {
   "cell_type": "code",
   "execution_count": 23,
   "id": "435bb4a5-a9a2-43a5-8ea4-bb5f60d7fa0a",
   "metadata": {},
   "outputs": [
    {
     "data": {
      "text/plain": [
       "int"
      ]
     },
     "execution_count": 23,
     "metadata": {},
     "output_type": "execute_result"
    }
   ],
   "source": [
    "a=3\n",
    "type(a)"
   ]
  },
  {
   "cell_type": "code",
   "execution_count": 24,
   "id": "9bc34274-8b9e-4f75-a49b-880a29de29f9",
   "metadata": {},
   "outputs": [
    {
     "data": {
      "text/plain": [
       "float"
      ]
     },
     "execution_count": 24,
     "metadata": {},
     "output_type": "execute_result"
    }
   ],
   "source": [
    "b=3.1\n",
    "type(b)"
   ]
  },
  {
   "cell_type": "code",
   "execution_count": 25,
   "id": "db1ad740-3856-4ef6-be46-5bcb3eb10ed3",
   "metadata": {},
   "outputs": [
    {
     "name": "stdout",
     "output_type": "stream",
     "text": [
      "<class 'int'>\n",
      "<class 'float'>\n"
     ]
    }
   ],
   "source": [
    "r=88\n",
    "n=55.66\n",
    "print(type(r))\n",
    "print(type(n))"
   ]
  },
  {
   "cell_type": "code",
   "execution_count": 27,
   "id": "5f07be7a-c2c8-407c-8fa9-b825bb244fa8",
   "metadata": {},
   "outputs": [
    {
     "name": "stdout",
     "output_type": "stream",
     "text": [
      "143.66\n"
     ]
    }
   ],
   "source": [
    "add=r+n\n",
    "print(add)"
   ]
  },
  {
   "cell_type": "code",
   "execution_count": 28,
   "id": "e1dd7e79-18c9-4c40-b015-620f073b43d9",
   "metadata": {},
   "outputs": [
    {
     "data": {
      "text/plain": [
       "55"
      ]
     },
     "execution_count": 28,
     "metadata": {},
     "output_type": "execute_result"
    }
   ],
   "source": [
    "#type casting\n",
    "v=55.1\n",
    "int(v)"
   ]
  },
  {
   "cell_type": "code",
   "execution_count": 29,
   "id": "95dbf85a-d0ae-4445-b0d6-fba192440dc2",
   "metadata": {},
   "outputs": [
    {
     "data": {
      "text/plain": [
       "21.0"
      ]
     },
     "execution_count": 29,
     "metadata": {},
     "output_type": "execute_result"
    }
   ],
   "source": [
    "float(21)"
   ]
  },
  {
   "cell_type": "code",
   "execution_count": 39,
   "id": "906dc187-2626-4e0a-97a6-11c1bfdaf848",
   "metadata": {},
   "outputs": [
    {
     "data": {
      "text/plain": [
       "bool"
      ]
     },
     "execution_count": 39,
     "metadata": {},
     "output_type": "execute_result"
    }
   ],
   "source": [
    "#boolean\n",
    "t=False\n",
    "type(t)"
   ]
  },
  {
   "cell_type": "code",
   "execution_count": 34,
   "id": "6902fb78-d38e-4406-aae1-7f05af7a020e",
   "metadata": {},
   "outputs": [
    {
     "data": {
      "text/plain": [
       "1.0"
      ]
     },
     "execution_count": 34,
     "metadata": {},
     "output_type": "execute_result"
    }
   ],
   "source": [
    "a=float(True)\n",
    "b=int(False)\n",
    "a"
   ]
  },
  {
   "cell_type": "code",
   "execution_count": 35,
   "id": "40b21d32-5379-4826-8bfc-78e0f80e860c",
   "metadata": {},
   "outputs": [
    {
     "data": {
      "text/plain": [
       "0"
      ]
     },
     "execution_count": 35,
     "metadata": {},
     "output_type": "execute_result"
    }
   ],
   "source": [
    "b"
   ]
  },
  {
   "cell_type": "code",
   "execution_count": 38,
   "id": "52a9ecee-2704-455d-aa32-dab4389031cf",
   "metadata": {},
   "outputs": [
    {
     "data": {
      "text/plain": [
       "1"
      ]
     },
     "execution_count": 38,
     "metadata": {},
     "output_type": "execute_result"
    }
   ],
   "source": [
    "a=int(True)\n",
    "a"
   ]
  },
  {
   "cell_type": "code",
   "execution_count": 41,
   "id": "28b7421b-7222-4b36-9fdf-b67adbefbdf7",
   "metadata": {},
   "outputs": [
    {
     "data": {
      "text/plain": [
       "complex"
      ]
     },
     "execution_count": 41,
     "metadata": {},
     "output_type": "execute_result"
    }
   ],
   "source": [
    "#complex\n",
    "y=11-95j\n",
    "type(y)"
   ]
  },
  {
   "cell_type": "code",
   "execution_count": 47,
   "id": "9a7a5285-6f90-4963-9002-8df695d9d85d",
   "metadata": {},
   "outputs": [
    {
     "data": {
      "text/plain": [
       "11.0"
      ]
     },
     "execution_count": 47,
     "metadata": {},
     "output_type": "execute_result"
    }
   ],
   "source": [
    "a=y.real\n",
    "a"
   ]
  },
  {
   "cell_type": "code",
   "execution_count": 48,
   "id": "2639f6c8-8a17-470a-afcf-97776a840d77",
   "metadata": {},
   "outputs": [
    {
     "data": {
      "text/plain": [
       "-95.0"
      ]
     },
     "execution_count": 48,
     "metadata": {},
     "output_type": "execute_result"
    }
   ],
   "source": [
    "y.imag"
   ]
  },
  {
   "cell_type": "code",
   "execution_count": 49,
   "id": "fb55d392-01a7-4743-b770-9a7ed4864e48",
   "metadata": {},
   "outputs": [
    {
     "data": {
      "text/plain": [
       "-95"
      ]
     },
     "execution_count": 49,
     "metadata": {},
     "output_type": "execute_result"
    }
   ],
   "source": [
    "int(y.imag)"
   ]
  },
  {
   "cell_type": "code",
   "execution_count": 50,
   "id": "b526a6ca-d21f-450b-b339-f3877b1c2bdd",
   "metadata": {},
   "outputs": [
    {
     "data": {
      "text/plain": [
       "11"
      ]
     },
     "execution_count": 50,
     "metadata": {},
     "output_type": "execute_result"
    }
   ],
   "source": [
    "int(y.real)"
   ]
  },
  {
   "cell_type": "code",
   "execution_count": 1,
   "id": "84abd4dc-d9bf-4a16-9086-ce261c48305f",
   "metadata": {},
   "outputs": [
    {
     "data": {
      "text/plain": [
       "list"
      ]
     },
     "execution_count": 1,
     "metadata": {},
     "output_type": "execute_result"
    }
   ],
   "source": [
    "#LIST\n",
    "A=[2,9,6,\"twinky\",\"twan\"]\n",
    "type(A)"
   ]
  },
  {
   "cell_type": "code",
   "execution_count": 2,
   "id": "95ee5a0a-59ae-4c5a-b92d-1c19131bb65d",
   "metadata": {},
   "outputs": [
    {
     "name": "stdout",
     "output_type": "stream",
     "text": [
      "[2, 9, 6, 'twinky', 'twan']\n"
     ]
    }
   ],
   "source": [
    "print(A)"
   ]
  },
  {
   "cell_type": "code",
   "execution_count": 4,
   "id": "84000211-0624-4ad3-baf0-0438ca6ad3f6",
   "metadata": {},
   "outputs": [
    {
     "data": {
      "text/plain": [
       "[]"
      ]
     },
     "execution_count": 4,
     "metadata": {},
     "output_type": "execute_result"
    }
   ],
   "source": [
    "#to create empty list\n",
    "b=list()\n",
    "b"
   ]
  },
  {
   "cell_type": "code",
   "execution_count": 5,
   "id": "8704acda-7e22-49b3-87e2-4bf06b583365",
   "metadata": {},
   "outputs": [
    {
     "data": {
      "text/plain": [
       "[]"
      ]
     },
     "execution_count": 5,
     "metadata": {},
     "output_type": "execute_result"
    }
   ],
   "source": [
    "c=[]\n",
    "c"
   ]
  },
  {
   "cell_type": "code",
   "execution_count": 7,
   "id": "1359a423-d8f1-4d8e-9dd9-45d6f00e5bd6",
   "metadata": {},
   "outputs": [
    {
     "data": {
      "text/plain": [
       "[1, 2, 3, 'aaa', [18, 'bbb']]"
      ]
     },
     "execution_count": 7,
     "metadata": {},
     "output_type": "execute_result"
    }
   ],
   "source": [
    "#nested list\n",
    "a=[1,2,3,\"aaa\",[18,\"bbb\"]]\n",
    "a"
   ]
  },
  {
   "cell_type": "code",
   "execution_count": 8,
   "id": "822f6285-44f2-41bd-b8e9-0278d69895f9",
   "metadata": {},
   "outputs": [
    {
     "name": "stdout",
     "output_type": "stream",
     "text": [
      "5\n"
     ]
    }
   ],
   "source": [
    "#lengh of list\n",
    "print(len(a))"
   ]
  },
  {
   "cell_type": "code",
   "execution_count": 15,
   "id": "409f0f4d-ebc2-4c63-9ee1-638b9dc04904",
   "metadata": {},
   "outputs": [
    {
     "data": {
      "text/plain": [
       "[1, 2, 3, 2, 22, 'aa', 'www', 5, 9, 4]"
      ]
     },
     "execution_count": 15,
     "metadata": {},
     "output_type": "execute_result"
    }
   ],
   "source": [
    "#list concatention\n",
    "a=[1,2,3,2,22]\n",
    "c=[\"aa\",\"www\",5,9,4]\n",
    "a+c"
   ]
  },
  {
   "cell_type": "code",
   "execution_count": 16,
   "id": "211c688a-eb64-4c20-9e8d-e9256693ed5d",
   "metadata": {},
   "outputs": [
    {
     "data": {
      "text/plain": [
       "[1, 2, 3, 8, 5, 52, [66, 'aann']]"
      ]
     },
     "execution_count": 16,
     "metadata": {},
     "output_type": "execute_result"
    }
   ],
   "source": [
    "#list methods\n",
    "#append\n",
    "a=[1,2,3,8,5,52]\n",
    "a.append([66,\"aann\"])\n",
    "a"
   ]
  },
  {
   "cell_type": "code",
   "execution_count": 21,
   "id": "d06f7370-a20e-43e1-86b1-ccd2fcf5198a",
   "metadata": {},
   "outputs": [
    {
     "data": {
      "text/plain": [
       "[1, 2, 3, 4, 66, 'aaaa']"
      ]
     },
     "execution_count": 21,
     "metadata": {},
     "output_type": "execute_result"
    }
   ],
   "source": [
    "b=[1,2,3,4]\n",
    "b.extend([66,\"aaaa\"])\n",
    "b"
   ]
  },
  {
   "cell_type": "code",
   "execution_count": 25,
   "id": "ec28de9c-5dd3-4614-bdeb-ed6162c98ac4",
   "metadata": {},
   "outputs": [
    {
     "name": "stdout",
     "output_type": "stream",
     "text": [
      "[1, 88, 'ankiii', 99, 77, 'girl', 66, 99]\n"
     ]
    }
   ],
   "source": [
    "#insert\n",
    "ab=[1,88,99,77,\"girl\",66,99]\n",
    "ab.insert(2,\"ankiii\")\n",
    "print(ab)\n"
   ]
  },
  {
   "cell_type": "code",
   "execution_count": 28,
   "id": "14463ec1-0875-4cec-893f-e26f20bac64e",
   "metadata": {},
   "outputs": [
    {
     "name": "stdout",
     "output_type": "stream",
     "text": [
      "[1, 88, 77, 'girl', 66, 99]\n"
     ]
    }
   ],
   "source": [
    "#remove\n",
    "ab=[1,88,99,77,\"girl\",66,99]\n",
    "ab.remove(99)\n",
    "print(ab)\n"
   ]
  },
  {
   "cell_type": "code",
   "execution_count": 29,
   "id": "c89c4f36-f511-4a52-875d-c6fdd4eb80d3",
   "metadata": {},
   "outputs": [
    {
     "data": {
      "text/plain": [
       "[]"
      ]
     },
     "execution_count": 29,
     "metadata": {},
     "output_type": "execute_result"
    }
   ],
   "source": [
    "#clear\n",
    "a=[1,88,99,66,7474]\n",
    "a.clear()\n",
    "a"
   ]
  },
  {
   "cell_type": "code",
   "execution_count": 31,
   "id": "d18c617e-f0b4-4f57-8278-1ac080799ce2",
   "metadata": {},
   "outputs": [
    {
     "data": {
      "text/plain": [
       "[8, 99, 66, 666]"
      ]
     },
     "execution_count": 31,
     "metadata": {},
     "output_type": "execute_result"
    }
   ],
   "source": [
    "#pop\n",
    "a=[8,99,66,666,75]\n",
    "a.pop()\n",
    "a"
   ]
  },
  {
   "cell_type": "code",
   "execution_count": 34,
   "id": "0655bbda-2a82-4ff9-87a0-6675b26bdb61",
   "metadata": {},
   "outputs": [
    {
     "data": {
      "text/plain": [
       "[88, 99, 33, 33]"
      ]
     },
     "execution_count": 34,
     "metadata": {},
     "output_type": "execute_result"
    }
   ],
   "source": [
    "#delete\n",
    "lst=[1,22,88,99,33,33]\n",
    "del lst[0:2]\n",
    "lst"
   ]
  },
  {
   "cell_type": "code",
   "execution_count": 35,
   "id": "65b9a769-5cca-4df2-8cf1-3954ca3a0c47",
   "metadata": {},
   "outputs": [
    {
     "data": {
      "text/plain": [
       "[33, 33, 99, 88]"
      ]
     },
     "execution_count": 35,
     "metadata": {},
     "output_type": "execute_result"
    }
   ],
   "source": [
    "#reverse\n",
    "lst.reverse()\n",
    "lst"
   ]
  },
  {
   "cell_type": "code",
   "execution_count": 36,
   "id": "fd4ee523-8dfd-4a3e-b28d-a74a583d3efd",
   "metadata": {},
   "outputs": [
    {
     "data": {
      "text/plain": [
       "[1, 6, 9, 82, 88]"
      ]
     },
     "execution_count": 36,
     "metadata": {},
     "output_type": "execute_result"
    }
   ],
   "source": [
    "#sorting\n",
    "num=[88,9,82,1,6]\n",
    "sorted(num)"
   ]
  },
  {
   "cell_type": "code",
   "execution_count": 37,
   "id": "6621b36c-b4fb-4368-9eab-b34cb0e6fb43",
   "metadata": {},
   "outputs": [
    {
     "data": {
      "text/plain": [
       "[88, 82, 9, 6, 1]"
      ]
     },
     "execution_count": 37,
     "metadata": {},
     "output_type": "execute_result"
    }
   ],
   "source": [
    "sorted(num,reverse=True)"
   ]
  },
  {
   "cell_type": "code",
   "execution_count": null,
   "id": "115ed36a-f383-46d8-90e2-936c7820b425",
   "metadata": {},
   "outputs": [],
   "source": [
    "#copy\n",
    "#1 shallow copy\n",
    "a1=[1,2,3,40]\n",
    "a2="
   ]
  },
  {
   "cell_type": "code",
   "execution_count": 38,
   "id": "d0584ac6-15bf-46df-a145-baadbf82dddb",
   "metadata": {},
   "outputs": [
    {
     "data": {
      "text/plain": [
       "2"
      ]
     },
     "execution_count": 38,
     "metadata": {},
     "output_type": "execute_result"
    }
   ],
   "source": [
    "#index\n",
    "lst=[1,2,3,6]\n",
    "lst.index(3)\n"
   ]
  },
  {
   "cell_type": "code",
   "execution_count": 43,
   "id": "36a682f7-d04c-4a2c-8876-13ec38bf25e7",
   "metadata": {},
   "outputs": [
    {
     "data": {
      "text/plain": [
       "99"
      ]
     },
     "execution_count": 43,
     "metadata": {},
     "output_type": "execute_result"
    }
   ],
   "source": [
    "#minimum and maximum\n",
    "lst=[1,99,6,7,5]\n",
    "max(lst)\n"
   ]
  },
  {
   "cell_type": "code",
   "execution_count": 44,
   "id": "653859aa-a71d-4e0a-9416-99bc700a89a0",
   "metadata": {},
   "outputs": [
    {
     "data": {
      "text/plain": [
       "1"
      ]
     },
     "execution_count": 44,
     "metadata": {},
     "output_type": "execute_result"
    }
   ],
   "source": [
    "min(lst)"
   ]
  },
  {
   "cell_type": "code",
   "execution_count": 47,
   "id": "29b3a9d6-156c-4696-980b-64289b5c645b",
   "metadata": {},
   "outputs": [
    {
     "data": {
      "text/plain": [
       "tuple"
      ]
     },
     "execution_count": 47,
     "metadata": {},
     "output_type": "execute_result"
    }
   ],
   "source": [
    "#tuples\n",
    "a=(8,6,\"aabb\",6)\n",
    "type(a)"
   ]
  },
  {
   "cell_type": "code",
   "execution_count": 49,
   "id": "a9d0b5f7-ab9c-4902-906c-f1e98333c163",
   "metadata": {},
   "outputs": [
    {
     "data": {
      "text/plain": [
       "()"
      ]
     },
     "execution_count": 49,
     "metadata": {},
     "output_type": "execute_result"
    }
   ],
   "source": [
    "b=()  #empty tuple\n",
    "b"
   ]
  },
  {
   "cell_type": "code",
   "execution_count": 50,
   "id": "80fe67c9-313b-40b4-a684-7b0dd23ffb5c",
   "metadata": {},
   "outputs": [
    {
     "data": {
      "text/plain": [
       "(5, 9, 6.99, 'anki')"
      ]
     },
     "execution_count": 50,
     "metadata": {},
     "output_type": "execute_result"
    }
   ],
   "source": [
    "c=(5,9,6.99,\"anki\")\n",
    "c"
   ]
  },
  {
   "cell_type": "code",
   "execution_count": 52,
   "id": "423df4a7-9e8a-407f-8c41-dd1a60b69a1a",
   "metadata": {},
   "outputs": [
    {
     "data": {
      "text/plain": [
       "(5, 6, ('t', 99))"
      ]
     },
     "execution_count": 52,
     "metadata": {},
     "output_type": "execute_result"
    }
   ],
   "source": [
    "#nested tuple\n",
    "d=(5,6,(\"t\",99))\n",
    "d\n"
   ]
  },
  {
   "cell_type": "code",
   "execution_count": 53,
   "id": "6e1c08cb-f825-4b05-90c1-236fb378b195",
   "metadata": {},
   "outputs": [
    {
     "data": {
      "text/plain": [
       "('anki', 'twan', 52, [4, 6, 55], 88, 65)"
      ]
     },
     "execution_count": 53,
     "metadata": {},
     "output_type": "execute_result"
    }
   ],
   "source": [
    "#assigning changing value from a list which is inside the tuple\n",
    "a=(\"anki\",\"twan\",52,[4,6,\"aa\"],88,65)\n",
    "a[3][2]=55\n",
    "a"
   ]
  },
  {
   "cell_type": "code",
   "execution_count": 54,
   "id": "f9599bd1-bf35-48d3-b6f3-e21340ce928a",
   "metadata": {},
   "outputs": [
    {
     "data": {
      "text/plain": [
       "(1, 2, 3, 4, 5, 6, 7, 8)"
      ]
     },
     "execution_count": 54,
     "metadata": {},
     "output_type": "execute_result"
    }
   ],
   "source": [
    "#slicing\n",
    "a=(1,2,3,4,5,6,7,8)\n",
    "a[:]"
   ]
  },
  {
   "cell_type": "code",
   "execution_count": 55,
   "id": "93022881-2d50-42d4-9a0b-18d0a94d0fc5",
   "metadata": {},
   "outputs": [
    {
     "data": {
      "text/plain": [
       "(3, 4, 5, 6, 7, 8)"
      ]
     },
     "execution_count": 55,
     "metadata": {},
     "output_type": "execute_result"
    }
   ],
   "source": [
    "a[2:]"
   ]
  },
  {
   "cell_type": "code",
   "execution_count": 56,
   "id": "3b67c841-72ea-4e7d-a6f0-1a26653f2747",
   "metadata": {},
   "outputs": [
    {
     "data": {
      "text/plain": [
       "(3, 4, 5)"
      ]
     },
     "execution_count": 56,
     "metadata": {},
     "output_type": "execute_result"
    }
   ],
   "source": [
    "a[2:5]\n"
   ]
  },
  {
   "cell_type": "code",
   "execution_count": 57,
   "id": "de0319d7-4d7c-417b-a946-5e7147c126b1",
   "metadata": {},
   "outputs": [
    {
     "data": {
      "text/plain": [
       "(2, 1)"
      ]
     },
     "execution_count": 57,
     "metadata": {},
     "output_type": "execute_result"
    }
   ],
   "source": [
    "a[1::-1]"
   ]
  },
  {
   "cell_type": "code",
   "execution_count": 59,
   "id": "4b5f1628-150c-40ad-8bee-8993883bef91",
   "metadata": {},
   "outputs": [
    {
     "data": {
      "text/plain": [
       "2"
      ]
     },
     "execution_count": 59,
     "metadata": {},
     "output_type": "execute_result"
    }
   ],
   "source": [
    "#tuple methods\n",
    "#count\n",
    "a=(1,5,9.6,\"a\",8,8,9)\n",
    "a.count(8)"
   ]
  },
  {
   "cell_type": "code",
   "execution_count": null,
   "id": "534db006-bb13-4d34-be4b-4a127cfcfa0a",
   "metadata": {},
   "outputs": [],
   "source": [
    "#index\n"
   ]
  },
  {
   "cell_type": "code",
   "execution_count": 61,
   "id": "21d235a6-1368-4a74-bfaf-ddcbf3299f10",
   "metadata": {},
   "outputs": [
    {
     "data": {
      "text/plain": [
       "[36, 44, 55, 99, 888]"
      ]
     },
     "execution_count": 61,
     "metadata": {},
     "output_type": "execute_result"
    }
   ],
   "source": [
    "#sorting\n",
    "b=(55,99,888,36,44)\n",
    "sorted(b)"
   ]
  },
  {
   "cell_type": "code",
   "execution_count": 62,
   "id": "ad2b1309-a7ca-4194-a032-d22f452a7569",
   "metadata": {},
   "outputs": [
    {
     "data": {
      "text/plain": [
       "True"
      ]
     },
     "execution_count": 62,
     "metadata": {},
     "output_type": "execute_result"
    }
   ],
   "source": [
    "#tuple membership (check if the element exists or not)\n",
    "a=(\"one\",\"two\",\"three\",\"four\",\"five\")\n",
    "\"two\" in a"
   ]
  },
  {
   "cell_type": "code",
   "execution_count": 63,
   "id": "1d32c763-1e66-40e3-9a4d-14c0a811b1d9",
   "metadata": {},
   "outputs": [
    {
     "data": {
      "text/plain": [
       "True"
      ]
     },
     "execution_count": 63,
     "metadata": {},
     "output_type": "execute_result"
    }
   ],
   "source": [
    "\"five\" in a"
   ]
  },
  {
   "cell_type": "code",
   "execution_count": 64,
   "id": "99668be2-5f4d-4616-b289-6809f492a873",
   "metadata": {},
   "outputs": [
    {
     "data": {
      "text/plain": [
       "False"
      ]
     },
     "execution_count": 64,
     "metadata": {},
     "output_type": "execute_result"
    }
   ],
   "source": [
    "\"six\" in a"
   ]
  },
  {
   "cell_type": "code",
   "execution_count": 65,
   "id": "bbd43b60-add0-413a-8eeb-c80bafffd10f",
   "metadata": {},
   "outputs": [
    {
     "data": {
      "text/plain": [
       "set"
      ]
     },
     "execution_count": 65,
     "metadata": {},
     "output_type": "execute_result"
    }
   ],
   "source": [
    "#set\n",
    "a=set()\n",
    "type(a)\n",
    "\n"
   ]
  },
  {
   "cell_type": "code",
   "execution_count": 67,
   "id": "6c7a0f20-6907-429c-b90d-8ac2eb4cfa7c",
   "metadata": {},
   "outputs": [
    {
     "name": "stdout",
     "output_type": "stream",
     "text": [
      "<class 'set'>\n"
     ]
    }
   ],
   "source": [
    "print(type(a))"
   ]
  },
  {
   "cell_type": "code",
   "execution_count": 68,
   "id": "fa15f5b7-9786-43e7-8c85-42fe057c328e",
   "metadata": {},
   "outputs": [
    {
     "data": {
      "text/plain": [
       "{3, 10, 20, 22}"
      ]
     },
     "execution_count": 68,
     "metadata": {},
     "output_type": "execute_result"
    }
   ],
   "source": [
    "a={10,20,3,3,22}\n",
    "a"
   ]
  },
  {
   "cell_type": "code",
   "execution_count": 71,
   "id": "51f8b63a-d6be-484c-a4d8-e2f763a1f246",
   "metadata": {},
   "outputs": [
    {
     "data": {
      "text/plain": [
       "{1, 20, 6, 88, 99, 'a'}"
      ]
     },
     "execution_count": 71,
     "metadata": {},
     "output_type": "execute_result"
    }
   ],
   "source": [
    "a={1,20,6,\"a\",99,88}     #sorted by ascii value\n",
    "a"
   ]
  },
  {
   "cell_type": "code",
   "execution_count": 74,
   "id": "fe7b7bac-e28f-4f71-b104-e9bf493fc8af",
   "metadata": {},
   "outputs": [
    {
     "name": "stdout",
     "output_type": "stream",
     "text": [
      "[1, 2, 3, 4]\n"
     ]
    }
   ],
   "source": [
    "s=list(set([1,2,3,1,3,4]))  #to remove duplicate in list using set\n",
    "print(s)"
   ]
  },
  {
   "cell_type": "code",
   "execution_count": null,
   "id": "79e43ad5-b56d-4daf-b760-4161c87345d5",
   "metadata": {},
   "outputs": [],
   "source": [
    "#adding single item in set\n"
   ]
  },
  {
   "cell_type": "code",
   "execution_count": 75,
   "id": "78d99f2f-8794-46b9-939b-1df90d706dc7",
   "metadata": {},
   "outputs": [
    {
     "data": {
      "text/plain": [
       "{1, 8, 9}"
      ]
     },
     "execution_count": 75,
     "metadata": {},
     "output_type": "execute_result"
    }
   ],
   "source": [
    "#adding multiple items in set\n",
    "a=set()\n",
    "a.update([1,8,9])\n",
    "a"
   ]
  },
  {
   "cell_type": "code",
   "execution_count": 76,
   "id": "175efe8c-e951-4764-8f7a-b970532b3e91",
   "metadata": {},
   "outputs": [
    {
     "data": {
      "text/plain": [
       "{1, 8, 9}"
      ]
     },
     "execution_count": 76,
     "metadata": {},
     "output_type": "execute_result"
    }
   ],
   "source": [
    "#copy\n",
    "d=a.copy()\n",
    "d"
   ]
  },
  {
   "cell_type": "code",
   "execution_count": 79,
   "id": "156ba607-d6fb-474d-a1c8-a200cd0e4e80",
   "metadata": {},
   "outputs": [
    {
     "name": "stdout",
     "output_type": "stream",
     "text": [
      "{1, 2, 5, 6, 8, 9}\n"
     ]
    },
    {
     "data": {
      "text/plain": [
       "{1, 2, 5, 6, 9}"
      ]
     },
     "execution_count": 79,
     "metadata": {},
     "output_type": "execute_result"
    }
   ],
   "source": [
    "#delete elements from set using discard and remove method\n",
    "a={1,2,8,9,6,5}\n",
    "print(a)      #we can't get error if the element is not there\n",
    "a.discard(8)\n",
    "a"
   ]
  },
  {
   "cell_type": "code",
   "execution_count": null,
   "id": "3717e234-c1d9-44ce-9162-0ef13d188939",
   "metadata": {},
   "outputs": [],
   "source": []
  },
  {
   "cell_type": "code",
   "execution_count": 80,
   "id": "6de0f144-fa27-451a-bb02-c8858499a905",
   "metadata": {},
   "outputs": [
    {
     "name": "stdout",
     "output_type": "stream",
     "text": [
      "{1, 2, 5, 6, 8, 9}\n"
     ]
    },
    {
     "data": {
      "text/plain": [
       "{1, 2, 5, 6, 9}"
      ]
     },
     "execution_count": 80,
     "metadata": {},
     "output_type": "execute_result"
    }
   ],
   "source": [
    "#delete elements from set using discard and remove method\n",
    "a={1,2,8,9,6,5}\n",
    "print(a)    \n",
    "a.remove(8)   #here we get error if the element is not there\n",
    "a"
   ]
  },
  {
   "cell_type": "code",
   "execution_count": 81,
   "id": "0478f80c-c85a-46f6-99e2-f4be84db27f8",
   "metadata": {},
   "outputs": [
    {
     "ename": "KeyError",
     "evalue": "10",
     "output_type": "error",
     "traceback": [
      "\u001b[1;31m---------------------------------------------------------------------------\u001b[0m",
      "\u001b[1;31mKeyError\u001b[0m                                  Traceback (most recent call last)",
      "Cell \u001b[1;32mIn[81], line 1\u001b[0m\n\u001b[1;32m----> 1\u001b[0m \u001b[43ma\u001b[49m\u001b[38;5;241;43m.\u001b[39;49m\u001b[43mremove\u001b[49m\u001b[43m(\u001b[49m\u001b[38;5;241;43m10\u001b[39;49m\u001b[43m)\u001b[49m\n\u001b[0;32m      2\u001b[0m a\n",
      "\u001b[1;31mKeyError\u001b[0m: 10"
     ]
    }
   ],
   "source": [
    "a.remove(10)\n",
    "a"
   ]
  },
  {
   "cell_type": "code",
   "execution_count": 82,
   "id": "4e0b9dcc-4a4f-447f-834a-55f2db8e736c",
   "metadata": {},
   "outputs": [
    {
     "data": {
      "text/plain": [
       "{1, 2, 5, 6, 9}"
      ]
     },
     "execution_count": 82,
     "metadata": {},
     "output_type": "execute_result"
    }
   ],
   "source": [
    "a.discard(10)\n",
    "a"
   ]
  },
  {
   "cell_type": "code",
   "execution_count": null,
   "id": "8b290531-7224-4f9e-83e2-7afb75093b08",
   "metadata": {},
   "outputs": [],
   "source": []
  }
 ],
 "metadata": {
  "kernelspec": {
   "display_name": "Python 3 (ipykernel)",
   "language": "python",
   "name": "python3"
  },
  "language_info": {
   "codemirror_mode": {
    "name": "ipython",
    "version": 3
   },
   "file_extension": ".py",
   "mimetype": "text/x-python",
   "name": "python",
   "nbconvert_exporter": "python",
   "pygments_lexer": "ipython3",
   "version": "3.11.7"
  }
 },
 "nbformat": 4,
 "nbformat_minor": 5
}
