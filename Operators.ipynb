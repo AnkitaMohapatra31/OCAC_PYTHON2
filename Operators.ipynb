{
 "cells": [
  {
   "cell_type": "code",
   "execution_count": 7,
   "id": "90da6547-9e62-4a1a-ae87-5dfa0aec70de",
   "metadata": {},
   "outputs": [
    {
     "data": {
      "text/plain": [
       "9"
      ]
     },
     "execution_count": 7,
     "metadata": {},
     "output_type": "execute_result"
    }
   ],
   "source": [
    "#Arithmetic operators\n",
    "4+5  #addition"
   ]
  },
  {
   "cell_type": "code",
   "execution_count": 6,
   "id": "152d3468-6c19-4340-a1c1-8b6bb4a1f58a",
   "metadata": {},
   "outputs": [
    {
     "data": {
      "text/plain": [
       "58"
      ]
     },
     "execution_count": 6,
     "metadata": {},
     "output_type": "execute_result"
    }
   ],
   "source": [
    "66-8 #subtraction"
   ]
  },
  {
   "cell_type": "code",
   "execution_count": 5,
   "id": "7634f4aa-1761-4b54-b202-aaa28443c3e6",
   "metadata": {},
   "outputs": [
    {
     "data": {
      "text/plain": [
       "16"
      ]
     },
     "execution_count": 5,
     "metadata": {},
     "output_type": "execute_result"
    }
   ],
   "source": [
    "2*8 #multiplication"
   ]
  },
  {
   "cell_type": "code",
   "execution_count": 9,
   "id": "bde4972c-643d-43d6-90ac-1ddb2a306f2b",
   "metadata": {},
   "outputs": [
    {
     "data": {
      "text/plain": [
       "4.0"
      ]
     },
     "execution_count": 9,
     "metadata": {},
     "output_type": "execute_result"
    }
   ],
   "source": [
    "8/2 #division"
   ]
  },
  {
   "cell_type": "code",
   "execution_count": 10,
   "id": "4a109548-b493-4408-a463-7ef6199b409a",
   "metadata": {},
   "outputs": [
    {
     "data": {
      "text/plain": [
       "100"
      ]
     },
     "execution_count": 10,
     "metadata": {},
     "output_type": "execute_result"
    }
   ],
   "source": [
    "10**2 #power"
   ]
  },
  {
   "cell_type": "code",
   "execution_count": 12,
   "id": "5ec9ff7a-ab1c-4fca-a970-712e7588db39",
   "metadata": {},
   "outputs": [
    {
     "data": {
      "text/plain": [
       "5"
      ]
     },
     "execution_count": 12,
     "metadata": {},
     "output_type": "execute_result"
    }
   ],
   "source": [
    "20//4"
   ]
  },
  {
   "cell_type": "code",
   "execution_count": 14,
   "id": "49866aa7-3520-44ba-ae1b-b60eb9edcff4",
   "metadata": {},
   "outputs": [
    {
     "data": {
      "text/plain": [
       "1"
      ]
     },
     "execution_count": 14,
     "metadata": {},
     "output_type": "execute_result"
    }
   ],
   "source": [
    "10%3 #reminder"
   ]
  },
  {
   "cell_type": "code",
   "execution_count": 15,
   "id": "28638793-3a56-40c5-8ddf-2d963497bde0",
   "metadata": {},
   "outputs": [
    {
     "data": {
      "text/plain": [
       "168"
      ]
     },
     "execution_count": 15,
     "metadata": {},
     "output_type": "execute_result"
    }
   ],
   "source": [
    "(6+6)*(6+8)  #paranthesis"
   ]
  },
  {
   "cell_type": "code",
   "execution_count": 16,
   "id": "0745dd61-0a53-4b95-9ee3-b6abe4edf171",
   "metadata": {},
   "outputs": [
    {
     "name": "stdout",
     "output_type": "stream",
     "text": [
      "103\n",
      "3.4782608695652173\n",
      "11\n",
      "1840\n"
     ]
    }
   ],
   "source": [
    "#mathematical operation with variable assignment\n",
    "a=80\n",
    "b=23\n",
    "print(a+b)\n",
    "print(a/b)\n",
    "print(a%b)\n",
    "print(a*b)"
   ]
  },
  {
   "cell_type": "code",
   "execution_count": 2,
   "id": "eee1fc9b-df04-4538-806c-1dcdb99b14a0",
   "metadata": {},
   "outputs": [
    {
     "data": {
      "text/plain": [
       "80.0"
      ]
     },
     "execution_count": 2,
     "metadata": {},
     "output_type": "execute_result"
    }
   ],
   "source": [
    "#arithmetic operators precedence\n",
    "a=80\n",
    "b=50\n",
    "a-b*a/b+a  #BODMAS"
   ]
  },
  {
   "cell_type": "code",
   "execution_count": 3,
   "id": "0c18b644-0cb9-445a-8261-9b1c86b0c324",
   "metadata": {},
   "outputs": [
    {
     "data": {
      "text/plain": [
       "24"
      ]
     },
     "execution_count": 3,
     "metadata": {},
     "output_type": "execute_result"
    }
   ],
   "source": [
    "(6*(2+2))"
   ]
  },
  {
   "cell_type": "code",
   "execution_count": 4,
   "id": "8d138f4e-20f3-40d5-b125-6c5307d9e3b2",
   "metadata": {},
   "outputs": [
    {
     "data": {
      "text/plain": [
       "57"
      ]
     },
     "execution_count": 4,
     "metadata": {},
     "output_type": "execute_result"
    }
   ],
   "source": [
    "9//6%5+2**6-8"
   ]
  },
  {
   "cell_type": "code",
   "execution_count": 5,
   "id": "8cb04a50-b562-4092-8130-f98af89b5162",
   "metadata": {},
   "outputs": [
    {
     "data": {
      "text/plain": [
       "True"
      ]
     },
     "execution_count": 5,
     "metadata": {},
     "output_type": "execute_result"
    }
   ],
   "source": [
    "#comparision/relational operators\n",
    "#greater than\n",
    "69>8"
   ]
  },
  {
   "cell_type": "code",
   "execution_count": 6,
   "id": "4504896d-498e-440f-ba1f-12a0796315ea",
   "metadata": {},
   "outputs": [
    {
     "data": {
      "text/plain": [
       "False"
      ]
     },
     "execution_count": 6,
     "metadata": {},
     "output_type": "execute_result"
    }
   ],
   "source": [
    "62>89"
   ]
  },
  {
   "cell_type": "code",
   "execution_count": 7,
   "id": "488022a7-3aa7-4009-a0a3-5d34d172c935",
   "metadata": {},
   "outputs": [
    {
     "data": {
      "text/plain": [
       "False"
      ]
     },
     "execution_count": 7,
     "metadata": {},
     "output_type": "execute_result"
    }
   ],
   "source": [
    "#less than\n",
    "25<5"
   ]
  },
  {
   "cell_type": "code",
   "execution_count": 8,
   "id": "f2a31ca6-2192-44d7-81dd-aeed152b8c08",
   "metadata": {},
   "outputs": [
    {
     "data": {
      "text/plain": [
       "True"
      ]
     },
     "execution_count": 8,
     "metadata": {},
     "output_type": "execute_result"
    }
   ],
   "source": [
    "88<99"
   ]
  },
  {
   "cell_type": "code",
   "execution_count": 9,
   "id": "7601e79e-30e8-401d-a819-326924395e0d",
   "metadata": {},
   "outputs": [
    {
     "data": {
      "text/plain": [
       "True"
      ]
     },
     "execution_count": 9,
     "metadata": {},
     "output_type": "execute_result"
    }
   ],
   "source": [
    "#equal \n",
    "54==54"
   ]
  },
  {
   "cell_type": "code",
   "execution_count": 10,
   "id": "0956b5b3-ea42-4106-b544-7b95c3bf5626",
   "metadata": {},
   "outputs": [
    {
     "data": {
      "text/plain": [
       "False"
      ]
     },
     "execution_count": 10,
     "metadata": {},
     "output_type": "execute_result"
    }
   ],
   "source": [
    "#not equal\n",
    "54!=54"
   ]
  },
  {
   "cell_type": "code",
   "execution_count": 11,
   "id": "31c8629f-09dd-47ba-8957-e15c461a5825",
   "metadata": {},
   "outputs": [
    {
     "data": {
      "text/plain": [
       "True"
      ]
     },
     "execution_count": 11,
     "metadata": {},
     "output_type": "execute_result"
    }
   ],
   "source": [
    "54!=87"
   ]
  },
  {
   "cell_type": "code",
   "execution_count": 12,
   "id": "654dd9ed-5ef2-4f78-8bbb-455d97aac1a0",
   "metadata": {},
   "outputs": [
    {
     "data": {
      "text/plain": [
       "False"
      ]
     },
     "execution_count": 12,
     "metadata": {},
     "output_type": "execute_result"
    }
   ],
   "source": [
    "#greater than and less than equal to\n",
    "1>=5\n"
   ]
  },
  {
   "cell_type": "code",
   "execution_count": 13,
   "id": "5fbcfd68-be8f-4d1c-9e65-ea97f95b01d9",
   "metadata": {},
   "outputs": [
    {
     "data": {
      "text/plain": [
       "True"
      ]
     },
     "execution_count": 13,
     "metadata": {},
     "output_type": "execute_result"
    }
   ],
   "source": [
    "4>=4"
   ]
  },
  {
   "cell_type": "code",
   "execution_count": 14,
   "id": "659319cf-644e-4137-8adf-a6dbb0d12969",
   "metadata": {},
   "outputs": [
    {
     "data": {
      "text/plain": [
       "True"
      ]
     },
     "execution_count": 14,
     "metadata": {},
     "output_type": "execute_result"
    }
   ],
   "source": [
    "8<=8"
   ]
  },
  {
   "cell_type": "code",
   "execution_count": 15,
   "id": "4381f556-962f-4d2f-9254-138b9e447a24",
   "metadata": {},
   "outputs": [
    {
     "data": {
      "text/plain": [
       "True"
      ]
     },
     "execution_count": 15,
     "metadata": {},
     "output_type": "execute_result"
    }
   ],
   "source": [
    "12.0==12"
   ]
  },
  {
   "cell_type": "code",
   "execution_count": 16,
   "id": "d0091930-78e0-4d06-96a1-d24651b4ac12",
   "metadata": {},
   "outputs": [
    {
     "data": {
      "text/plain": [
       "'0b1100100'"
      ]
     },
     "execution_count": 16,
     "metadata": {},
     "output_type": "execute_result"
    }
   ],
   "source": [
    "#bitwise operator\n",
    "bin(100)"
   ]
  },
  {
   "cell_type": "code",
   "execution_count": 17,
   "id": "a0272b38-9849-45f7-b9ab-c664b4b368b4",
   "metadata": {},
   "outputs": [
    {
     "data": {
      "text/plain": [
       "'0b111000111'"
      ]
     },
     "execution_count": 17,
     "metadata": {},
     "output_type": "execute_result"
    }
   ],
   "source": [
    "bin(455)"
   ]
  },
  {
   "cell_type": "code",
   "execution_count": 18,
   "id": "2bf1b239-a65a-40b5-821a-d1dbd923a18a",
   "metadata": {},
   "outputs": [
    {
     "data": {
      "text/plain": [
       "235"
      ]
     },
     "execution_count": 18,
     "metadata": {},
     "output_type": "execute_result"
    }
   ],
   "source": [
    "0b11101011"
   ]
  },
  {
   "cell_type": "code",
   "execution_count": 20,
   "id": "9b36827b-3976-4706-ad46-04f2546dd46c",
   "metadata": {},
   "outputs": [
    {
     "name": "stdout",
     "output_type": "stream",
     "text": [
      "9\n"
     ]
    }
   ],
   "source": [
    "#bitwise OR\n",
    "a=8\n",
    "b=9\n",
    "print(a|b)\n"
   ]
  },
  {
   "cell_type": "code",
   "execution_count": 22,
   "id": "d03cf6f3-8884-4649-9f05-2d0d31a781c5",
   "metadata": {},
   "outputs": [
    {
     "name": "stdout",
     "output_type": "stream",
     "text": [
      "1\n"
     ]
    }
   ],
   "source": [
    "#bitwise AND\n",
    "a=3\n",
    "b=5\n",
    "print(a&b)"
   ]
  },
  {
   "cell_type": "code",
   "execution_count": 23,
   "id": "0f3b09b7-6315-4da9-85f0-7d29a1de6286",
   "metadata": {},
   "outputs": [
    {
     "data": {
      "text/plain": [
       "15"
      ]
     },
     "execution_count": 23,
     "metadata": {},
     "output_type": "execute_result"
    }
   ],
   "source": [
    "7|9"
   ]
  },
  {
   "cell_type": "code",
   "execution_count": 24,
   "id": "6c471975-bf2a-47ba-ac5c-3ce892ca4504",
   "metadata": {},
   "outputs": [
    {
     "data": {
      "text/plain": [
       "True"
      ]
     },
     "execution_count": 24,
     "metadata": {},
     "output_type": "execute_result"
    }
   ],
   "source": [
    "#logical operators\n",
    "(3>5) or (2<8)"
   ]
  },
  {
   "cell_type": "code",
   "execution_count": 25,
   "id": "94897170-bd1c-4f67-8848-716cb8c8d63a",
   "metadata": {},
   "outputs": [
    {
     "data": {
      "text/plain": [
       "False"
      ]
     },
     "execution_count": 25,
     "metadata": {},
     "output_type": "execute_result"
    }
   ],
   "source": [
    "(7>8) and (8<10)"
   ]
  },
  {
   "cell_type": "code",
   "execution_count": 27,
   "id": "ee5f3101-fd61-4fe8-96c5-9f2ac18c9103",
   "metadata": {},
   "outputs": [
    {
     "data": {
      "text/plain": [
       "False"
      ]
     },
     "execution_count": 27,
     "metadata": {},
     "output_type": "execute_result"
    }
   ],
   "source": [
    "not True"
   ]
  },
  {
   "cell_type": "code",
   "execution_count": 28,
   "id": "9230d6df-09cd-44e0-8c14-2c42e2626326",
   "metadata": {},
   "outputs": [
    {
     "data": {
      "text/plain": [
       "True"
      ]
     },
     "execution_count": 28,
     "metadata": {},
     "output_type": "execute_result"
    }
   ],
   "source": [
    "not False"
   ]
  },
  {
   "cell_type": "code",
   "execution_count": 30,
   "id": "dbe1387c-e6b2-4ab1-83be-178acadc22bc",
   "metadata": {},
   "outputs": [
    {
     "data": {
      "text/plain": [
       "True"
      ]
     },
     "execution_count": 30,
     "metadata": {},
     "output_type": "execute_result"
    }
   ],
   "source": [
    "a=\"ankita\"\n",
    "a.isalpha() or str_example.isnum()"
   ]
  },
  {
   "cell_type": "code",
   "execution_count": 31,
   "id": "70803395-a099-489c-af94-be4ff59c7b0b",
   "metadata": {},
   "outputs": [
    {
     "data": {
      "text/plain": [
       "True"
      ]
     },
     "execution_count": 31,
     "metadata": {},
     "output_type": "execute_result"
    }
   ],
   "source": [
    "(5==5) and (5==8) or(8==8)"
   ]
  },
  {
   "cell_type": "code",
   "execution_count": 32,
   "id": "9fe46522-1496-45fc-ae7b-43433acb97de",
   "metadata": {},
   "outputs": [
    {
     "data": {
      "text/plain": [
       "8"
      ]
     },
     "execution_count": 32,
     "metadata": {},
     "output_type": "execute_result"
    }
   ],
   "source": [
    "#assignment operators\n",
    "a=8\n",
    "a"
   ]
  },
  {
   "cell_type": "code",
   "execution_count": 38,
   "id": "9dd32a4a-69d7-4f3e-8916-176cfc2db341",
   "metadata": {},
   "outputs": [
    {
     "data": {
      "text/plain": [
       "6"
      ]
     },
     "execution_count": 38,
     "metadata": {},
     "output_type": "execute_result"
    }
   ],
   "source": [
    "a=5\n",
    "a=a+1\n",
    "a"
   ]
  },
  {
   "cell_type": "code",
   "execution_count": 42,
   "id": "3f6973ca-b260-44bc-8239-a864413fa57a",
   "metadata": {},
   "outputs": [
    {
     "data": {
      "text/plain": [
       "7"
      ]
     },
     "execution_count": 42,
     "metadata": {},
     "output_type": "execute_result"
    }
   ],
   "source": [
    "a=6\n",
    "a+=1\n",
    "a"
   ]
  },
  {
   "cell_type": "code",
   "execution_count": 43,
   "id": "9b6fa494-87b6-4fd6-bc8a-d0e370a739d3",
   "metadata": {},
   "outputs": [
    {
     "data": {
      "text/plain": [
       "1"
      ]
     },
     "execution_count": 43,
     "metadata": {},
     "output_type": "execute_result"
    }
   ],
   "source": [
    "a=5\n",
    "a-=4\n",
    "a"
   ]
  },
  {
   "cell_type": "code",
   "execution_count": 44,
   "id": "b5ae639f-12a5-43f1-be5f-74cdecb80e4c",
   "metadata": {},
   "outputs": [
    {
     "name": "stdout",
     "output_type": "stream",
     "text": [
      "False\n"
     ]
    }
   ],
   "source": [
    "#identity operators\n",
    "a=8\n",
    "b=9\n",
    "print(a is b)\n"
   ]
  },
  {
   "cell_type": "code",
   "execution_count": 45,
   "id": "164e5fda-bdad-492b-8e5c-7f5ec0bbd209",
   "metadata": {},
   "outputs": [
    {
     "name": "stdout",
     "output_type": "stream",
     "text": [
      "True\n"
     ]
    }
   ],
   "source": [
    "a=8\n",
    "b=8\n",
    "print(a is b)"
   ]
  },
  {
   "cell_type": "code",
   "execution_count": 46,
   "id": "4450d351-546f-4dd3-a4c7-63e45b7017cc",
   "metadata": {},
   "outputs": [
    {
     "name": "stdout",
     "output_type": "stream",
     "text": [
      "False\n"
     ]
    }
   ],
   "source": [
    "a=\"ankita\"\n",
    "b=\"Ankita\"\n",
    "print(a is b)"
   ]
  },
  {
   "cell_type": "code",
   "execution_count": 47,
   "id": "21ee4f3d-a04e-4b80-8eb5-14445a9da713",
   "metadata": {},
   "outputs": [
    {
     "data": {
      "text/plain": [
       "True"
      ]
     },
     "execution_count": 47,
     "metadata": {},
     "output_type": "execute_result"
    }
   ],
   "source": [
    "#membership operator\n",
    "a=\"ankitamohapatra\"\n",
    "\"moh\" in a"
   ]
  },
  {
   "cell_type": "code",
   "execution_count": 48,
   "id": "269e9f9a-2713-47c9-a73f-0727f7ad347c",
   "metadata": {},
   "outputs": [
    {
     "data": {
      "text/plain": [
       "True"
      ]
     },
     "execution_count": 48,
     "metadata": {},
     "output_type": "execute_result"
    }
   ],
   "source": [
    "\"ank\" in a"
   ]
  },
  {
   "cell_type": "code",
   "execution_count": 49,
   "id": "5338035c-52d8-4d23-b0eb-59cee153e9a1",
   "metadata": {},
   "outputs": [
    {
     "data": {
      "text/plain": [
       "False"
      ]
     },
     "execution_count": 49,
     "metadata": {},
     "output_type": "execute_result"
    }
   ],
   "source": [
    "\"aki\" in a"
   ]
  },
  {
   "cell_type": "code",
   "execution_count": 50,
   "id": "018a375f-f7cd-45d0-863d-9349b7e76576",
   "metadata": {},
   "outputs": [
    {
     "data": {
      "text/plain": [
       "True"
      ]
     },
     "execution_count": 50,
     "metadata": {},
     "output_type": "execute_result"
    }
   ],
   "source": [
    "b=[4,5,6,9,8,7,0]\n",
    "5 in b"
   ]
  },
  {
   "cell_type": "code",
   "execution_count": 51,
   "id": "f8c7de4b-7aeb-4d4d-87ac-216039d974b2",
   "metadata": {},
   "outputs": [
    {
     "data": {
      "text/plain": [
       "False"
      ]
     },
     "execution_count": 51,
     "metadata": {},
     "output_type": "execute_result"
    }
   ],
   "source": [
    "9 not in b"
   ]
  },
  {
   "cell_type": "code",
   "execution_count": 52,
   "id": "75c74624-e1da-4eda-b9b2-b8f17008400d",
   "metadata": {},
   "outputs": [
    {
     "data": {
      "text/plain": [
       "True"
      ]
     },
     "execution_count": 52,
     "metadata": {},
     "output_type": "execute_result"
    }
   ],
   "source": [
    "9 in b"
   ]
  },
  {
   "cell_type": "code",
   "execution_count": null,
   "id": "7f3e37e2-7be0-4258-a3d7-4043d83f902c",
   "metadata": {},
   "outputs": [],
   "source": []
  }
 ],
 "metadata": {
  "kernelspec": {
   "display_name": "Python 3 (ipykernel)",
   "language": "python",
   "name": "python3"
  },
  "language_info": {
   "codemirror_mode": {
    "name": "ipython",
    "version": 3
   },
   "file_extension": ".py",
   "mimetype": "text/x-python",
   "name": "python",
   "nbconvert_exporter": "python",
   "pygments_lexer": "ipython3",
   "version": "3.11.7"
  }
 },
 "nbformat": 4,
 "nbformat_minor": 5
}
